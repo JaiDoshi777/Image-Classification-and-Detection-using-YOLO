{
 "cells": [
  {
   "cell_type": "code",
   "id": "initial_id",
   "metadata": {
    "collapsed": true,
    "ExecuteTime": {
     "end_time": "2024-11-10T16:29:11.424176Z",
     "start_time": "2024-11-10T16:29:11.195130Z"
    }
   },
   "source": [
    "import cv2 as cv\n",
    "import numpy as np\n",
    "import time\n",
    "import os"
   ],
   "outputs": [],
   "execution_count": 1
  },
  {
   "metadata": {},
   "cell_type": "markdown",
   "source": "",
   "id": "42d9d2e420160c66"
  },
  {
   "metadata": {
    "ExecuteTime": {
     "end_time": "2024-11-10T16:29:11.459591Z",
     "start_time": "2024-11-10T16:29:11.451928Z"
    }
   },
   "cell_type": "code",
   "source": "os.getcwd()",
   "id": "1776d5f198c9dacd",
   "outputs": [
    {
     "data": {
      "text/plain": [
       "'D:\\\\Computer Vision Udemy Course\\\\Computer-Vision-with-Python\\\\Computer-Vision-with-Python'"
      ]
     },
     "execution_count": 2,
     "metadata": {},
     "output_type": "execute_result"
    }
   ],
   "execution_count": 2
  },
  {
   "metadata": {
    "ExecuteTime": {
     "end_time": "2024-11-10T16:29:11.867901Z",
     "start_time": "2024-11-10T16:29:11.864443Z"
    }
   },
   "cell_type": "code",
   "source": "os.chdir('D:\\\\Computer Vision Udemy Course\\\\Computer-Vision-with-Python\\\\Computer-Vision-with-Python\\\\06-Deep-Learning-Computer-Vision\\\\06-YOLOv3')",
   "id": "94b5b433cea115a7",
   "outputs": [],
   "execution_count": 3
  },
  {
   "metadata": {
    "ExecuteTime": {
     "end_time": "2024-11-10T16:29:11.883516Z",
     "start_time": "2024-11-10T16:29:11.878033Z"
    }
   },
   "cell_type": "code",
   "source": "os.listdir('.')",
   "id": "e942dcaa5616ab55",
   "outputs": [
    {
     "data": {
      "text/plain": [
       "['.gitignore',\n",
       " '.ipynb_checkpoints',\n",
       " '06-YOLO-Object-Detection.ipynb',\n",
       " 'cfg',\n",
       " 'data',\n",
       " 'demo.py',\n",
       " 'images',\n",
       " 'LICENSE',\n",
       " 'model',\n",
       " 'README.md',\n",
       " 'videos',\n",
       " 'yad2k.py']"
      ]
     },
     "execution_count": 4,
     "metadata": {},
     "output_type": "execute_result"
    }
   ],
   "execution_count": 4
  },
  {
   "metadata": {
    "ExecuteTime": {
     "end_time": "2024-11-10T16:29:17.480108Z",
     "start_time": "2024-11-10T16:29:11.987908Z"
    }
   },
   "cell_type": "code",
   "source": "from model.updated_yolo_model import YOLO",
   "id": "62ab880dc2977d7c",
   "outputs": [],
   "execution_count": 5
  },
  {
   "metadata": {
    "ExecuteTime": {
     "end_time": "2024-11-10T16:29:17.489915Z",
     "start_time": "2024-11-10T16:29:17.486121Z"
    }
   },
   "cell_type": "code",
   "source": [
    "def process_image(img):\n",
    "    image = cv.resize(img,(416,416), interpolation=cv.INTER_CUBIC)\n",
    "    image = np.array(image, dtype='float32')\n",
    "    image /= 255\n",
    "    image = np.expand_dims(image, axis=0)\n",
    "    return image"
   ],
   "id": "31aec9010e9394d8",
   "outputs": [],
   "execution_count": 6
  },
  {
   "metadata": {
    "ExecuteTime": {
     "end_time": "2024-11-10T16:29:17.500275Z",
     "start_time": "2024-11-10T16:29:17.496960Z"
    }
   },
   "cell_type": "code",
   "source": [
    "def get_classes(file):\n",
    "    with open(file) as f:\n",
    "        class_names = f.readlines()\n",
    "    class_names = [l.strip() for l in class_names]\n",
    "    return class_names"
   ],
   "id": "b91a17c15f452e32",
   "outputs": [],
   "execution_count": 7
  },
  {
   "metadata": {
    "ExecuteTime": {
     "end_time": "2024-11-10T16:29:17.510609Z",
     "start_time": "2024-11-10T16:29:17.506059Z"
    }
   },
   "cell_type": "code",
   "source": [
    "def draw(image, boxes, scores, classes, all_classes):\n",
    "    for box, score, cl  in zip (boxes, scores, classes):\n",
    "        x,y,w,h = box\n",
    "        \n",
    "        top = int(max(0, round(x)))\n",
    "        left = int(max(0, round(y)))\n",
    "        right = int(min(image.shape[1], round(x+w)))\n",
    "        bottom = int(min(image.shape[0], round(y+h)))\n",
    "        \n",
    "        cv.rectangle(image, (top, left), (right, bottom), (0, 255, 0), 5)\n",
    "        cv.putText(image,'{0}{1:.2f}'.format(all_classes[cl],score),(top,left-6),cv.FONT_HERSHEY_SIMPLEX,1.5,(0,0,255),5,cv.LINE_AA)\n",
    "        \n",
    "        print('class:{0}{1:.2f}'.format(all_classes[cl],score))\n",
    "        print('box cordinate x,y,w,h:{0}'.format(box))\n",
    "    print()"
   ],
   "id": "8939548a1a591451",
   "outputs": [],
   "execution_count": 8
  },
  {
   "metadata": {
    "ExecuteTime": {
     "end_time": "2024-11-10T16:29:17.522583Z",
     "start_time": "2024-11-10T16:29:17.518519Z"
    }
   },
   "cell_type": "code",
   "source": [
    "def detect_image(image, yolo, all_classes):\n",
    "    processimage = process_image(image)\n",
    "    \n",
    "    start = time.time()\n",
    "    boxes, classes, scores = yolo.predict(processimage, image.shape)\n",
    "    end = time.time()\n",
    "    \n",
    "    print('time: {0:.2f}s'.format(end - start))\n",
    "    \n",
    "    if boxes is not None:\n",
    "        draw(image, boxes, scores, classes, all_classes)\n",
    "    \n",
    "    return image "
   ],
   "id": "9c20bdb558f93ec6",
   "outputs": [],
   "execution_count": 9
  },
  {
   "metadata": {
    "ExecuteTime": {
     "end_time": "2024-11-10T16:29:18.957295Z",
     "start_time": "2024-11-10T16:29:17.530603Z"
    }
   },
   "cell_type": "code",
   "source": [
    "yolo = YOLO(0.6,0.5)\n",
    "file = 'data/coco_classes.txt'\n",
    "all_classes = get_classes(file)"
   ],
   "id": "c926210dc34a9fef",
   "outputs": [
    {
     "name": "stderr",
     "output_type": "stream",
     "text": [
      "C:\\Users\\jaydo\\anaconda3\\Lib\\site-packages\\keras\\src\\layers\\activations\\leaky_relu.py:41: UserWarning: Argument `alpha` is deprecated. Use `negative_slope` instead.\n",
      "  warnings.warn(\n",
      "WARNING:absl:No training configuration found in the save file, so the model was *not* compiled. Compile it manually.\n"
     ]
    }
   ],
   "execution_count": 10
  },
  {
   "metadata": {
    "ExecuteTime": {
     "end_time": "2024-11-10T16:29:20.328111Z",
     "start_time": "2024-11-10T16:29:19.003093Z"
    }
   },
   "cell_type": "code",
   "source": [
    "f = 'test_image13.jpg'\n",
    "path = os.path.join('images', f)\n",
    "image = cv.imread(path)\n",
    "\n",
    "if image is None:\n",
    "    print(\" WHAT THE FUCKKKK WAS THAT FILE....!!!!!!!!\")\n",
    "else:\n",
    "    image = detect_image(image, yolo, all_classes)\n",
    "    output_path = os.path.join('images', 'res', f)\n",
    "    cv.imwrite(output_path, image)\n",
    "    print(output_path)"
   ],
   "id": "39f04ef005f01387",
   "outputs": [
    {
     "name": "stdout",
     "output_type": "stream",
     "text": [
      "\u001B[1m1/1\u001B[0m \u001B[32m━━━━━━━━━━━━━━━━━━━━\u001B[0m\u001B[37m\u001B[0m \u001B[1m1s\u001B[0m 1s/step\n",
      "time: 1.14s\n",
      "class:person1.00\n",
      "box cordinate x,y,w,h:[  97.70724177  440.52028656 1631.51446581 3583.04357529]\n",
      "\n",
      "images\\res\\test_image13.jpg\n"
     ]
    }
   ],
   "execution_count": 11
  },
  {
   "metadata": {
    "ExecuteTime": {
     "end_time": "2024-11-10T16:29:20.345236Z",
     "start_time": "2024-11-10T16:29:20.341415Z"
    }
   },
   "cell_type": "code",
   "source": "",
   "id": "4ac2b20891fb753a",
   "outputs": [],
   "execution_count": null
  }
 ],
 "metadata": {
  "kernelspec": {
   "display_name": "Python 3",
   "language": "python",
   "name": "python3"
  },
  "language_info": {
   "codemirror_mode": {
    "name": "ipython",
    "version": 2
   },
   "file_extension": ".py",
   "mimetype": "text/x-python",
   "name": "python",
   "nbconvert_exporter": "python",
   "pygments_lexer": "ipython2",
   "version": "2.7.6"
  }
 },
 "nbformat": 4,
 "nbformat_minor": 5
}
